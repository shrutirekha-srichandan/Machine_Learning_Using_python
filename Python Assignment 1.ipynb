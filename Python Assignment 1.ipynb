{
 "cells": [
  {
   "cell_type": "markdown",
   "id": "4ac592d0",
   "metadata": {},
   "source": [
    "## ASSIGNMENT 1"
   ]
  },
  {
   "cell_type": "markdown",
   "id": "ee919943",
   "metadata": {},
   "source": [
    "## 1. Print numbers from 1 to 10."
   ]
  },
  {
   "cell_type": "code",
   "execution_count": 31,
   "id": "0b3141d4",
   "metadata": {},
   "outputs": [
    {
     "name": "stdout",
     "output_type": "stream",
     "text": [
      "1 2 3 4 5 6 7 8 9 10 "
     ]
    }
   ],
   "source": [
    "for i in range(1,11):\n",
    "    print(i,end=\" \")"
   ]
  },
  {
   "cell_type": "markdown",
   "id": "ba4f2ea6",
   "metadata": {},
   "source": [
    "## 2. Print even numbers from 1 to 20"
   ]
  },
  {
   "cell_type": "code",
   "execution_count": 30,
   "id": "f2e77792",
   "metadata": {},
   "outputs": [
    {
     "name": "stdout",
     "output_type": "stream",
     "text": [
      "2 4 6 8 10 12 14 16 18 20 "
     ]
    }
   ],
   "source": [
    "for i in range(1,21):\n",
    "    if(i%2==0):\n",
    "        {\n",
    "            print(i,end=\" \")\n",
    "        }"
   ]
  },
  {
   "cell_type": "markdown",
   "id": "a3fa962c",
   "metadata": {},
   "source": [
    "## 3. Check if a number is positive, negative or zero"
   ]
  },
  {
   "cell_type": "code",
   "execution_count": 3,
   "id": "ef8555db",
   "metadata": {},
   "outputs": [
    {
     "name": "stdout",
     "output_type": "stream",
     "text": [
      "Enter the Number : 3\n",
      "3  is a Positive number.\n"
     ]
    }
   ],
   "source": [
    "n = int(input(\"Enter the Number : \"))\n",
    "if(n>0):\n",
    "    print(n,\" is a Positive number.\")\n",
    "elif(n<0):\n",
    "    print(n,\" is a Negative number.\")\n",
    "else:\n",
    "    print(n,\" is equal to Zero\")"
   ]
  },
  {
   "cell_type": "markdown",
   "id": "47d4529c",
   "metadata": {},
   "source": [
    "## 4. Add two numbers using operators"
   ]
  },
  {
   "cell_type": "code",
   "execution_count": 4,
   "id": "a6c541fa",
   "metadata": {},
   "outputs": [
    {
     "name": "stdout",
     "output_type": "stream",
     "text": [
      "Enter first number: 2\n",
      "Enter second number: 4\n",
      "2  +  4  =  6\n"
     ]
    }
   ],
   "source": [
    "num1 = int(input(\"Enter first number: \"))\n",
    "num2 = int(input(\"Enter second number: \"))\n",
    "print(num1,\" + \",num2,\" = \",(num1+num2))"
   ]
  },
  {
   "cell_type": "markdown",
   "id": "3bd3c405",
   "metadata": {},
   "source": [
    "## 5. Print multiplication table of a number."
   ]
  },
  {
   "cell_type": "code",
   "execution_count": 5,
   "id": "5b03b0e5",
   "metadata": {},
   "outputs": [
    {
     "name": "stdout",
     "output_type": "stream",
     "text": [
      "Enter The Number : 2\n",
      "2  *  1  =  2\n",
      "2  *  2  =  4\n",
      "2  *  3  =  6\n",
      "2  *  4  =  8\n",
      "2  *  5  =  10\n",
      "2  *  6  =  12\n",
      "2  *  7  =  14\n",
      "2  *  8  =  16\n",
      "2  *  9  =  18\n",
      "2  *  10  =  20\n"
     ]
    }
   ],
   "source": [
    "num1 = int(input(\"Enter The Number : \"))\n",
    "for i in range(1,11):\n",
    "    print(num1 ,\" * \",i,\" = \",(num1*i))"
   ]
  },
  {
   "cell_type": "markdown",
   "id": "cee133c1",
   "metadata": {},
   "source": [
    "## 6. Find the largest among two numbers."
   ]
  },
  {
   "cell_type": "code",
   "execution_count": 6,
   "id": "84cfe7b3",
   "metadata": {},
   "outputs": [
    {
     "name": "stdout",
     "output_type": "stream",
     "text": [
      "Enter number 1: 2\n",
      "Enter number 2: 4\n",
      "4  is Greater than  2\n"
     ]
    }
   ],
   "source": [
    "num1 = int(input(\"Enter number 1: \"))\n",
    "num2 = int(input(\"Enter number 2: \"))\n",
    "if(num1 > num2):\n",
    "    print(num1 ,\" is Greater than \",num2)\n",
    "elif(num1 == num2):\n",
    "    print(num1,\" is Equal to \",num2)\n",
    "else:\n",
    "    print(num2 ,\" is Greater than \",num1)"
   ]
  },
  {
   "cell_type": "markdown",
   "id": "f3ab01e9",
   "metadata": {},
   "source": [
    "## 7. Use a while loop to print numbers 5 to 1."
   ]
  },
  {
   "cell_type": "code",
   "execution_count": 7,
   "id": "ed87d772",
   "metadata": {},
   "outputs": [
    {
     "name": "stdout",
     "output_type": "stream",
     "text": [
      "5\n",
      "4\n",
      "3\n",
      "2\n",
      "1\n"
     ]
    }
   ],
   "source": [
    "i = 5\n",
    "while(i>0):\n",
    "    print(i)\n",
    "    i=i-1"
   ]
  },
  {
   "cell_type": "markdown",
   "id": "dbc82a63",
   "metadata": {},
   "source": [
    "## 8. Print all characters in a string."
   ]
  },
  {
   "cell_type": "code",
   "execution_count": 29,
   "id": "98bd7562",
   "metadata": {},
   "outputs": [
    {
     "name": "stdout",
     "output_type": "stream",
     "text": [
      "H e l l o   w o r l d "
     ]
    }
   ],
   "source": [
    "string = \"Hello world\"\n",
    "for i in range(0,len(string)): #len(string) returns length of string\n",
    "    print(string[i],end=\" \")\n",
    "  "
   ]
  },
  {
   "cell_type": "markdown",
   "id": "4f1bce9d",
   "metadata": {},
   "source": [
    "## 9. Use logical operator to check if a number is between 10 and 50."
   ]
  },
  {
   "cell_type": "code",
   "execution_count": 9,
   "id": "908f8f88",
   "metadata": {},
   "outputs": [
    {
     "name": "stdout",
     "output_type": "stream",
     "text": [
      "Enter the Number : 3\n",
      "3  is not in between 10 and 50 \n"
     ]
    }
   ],
   "source": [
    "n = int(input(\"Enter the Number : \"))\n",
    "if(n>=10 and n<=50):\n",
    "    print(n,\" is in between 10 and 50 \")\n",
    "else:\n",
    "    print(n,\" is not in between 10 and 50 \")"
   ]
  },
  {
   "cell_type": "markdown",
   "id": "cd390f4d",
   "metadata": {},
   "source": [
    "## 10. Sum of first 10 natural numbers."
   ]
  },
  {
   "cell_type": "code",
   "execution_count": 10,
   "id": "781ce9dc",
   "metadata": {},
   "outputs": [
    {
     "name": "stdout",
     "output_type": "stream",
     "text": [
      "Sum of first  10  Natural Number =  55\n"
     ]
    }
   ],
   "source": [
    "n =10\n",
    "s=0\n",
    "for i in range (1,n+1):\n",
    "    s += i\n",
    "print(\"Sum of first \",n,\" Natural Number = \",s)"
   ]
  },
  {
   "cell_type": "markdown",
   "id": "69d832c0",
   "metadata": {},
   "source": [
    "## 11. Print \"Odd\" or \"Even\" for numbers 1 to 10"
   ]
  },
  {
   "cell_type": "code",
   "execution_count": 11,
   "id": "47c2967f",
   "metadata": {},
   "outputs": [
    {
     "name": "stdout",
     "output_type": "stream",
     "text": [
      "1  = ODD\n",
      "2  = EVEN\n",
      "3  = ODD\n",
      "4  = EVEN\n",
      "5  = ODD\n",
      "6  = EVEN\n",
      "7  = ODD\n",
      "8  = EVEN\n",
      "9  = ODD\n",
      "10  = EVEN\n"
     ]
    }
   ],
   "source": [
    "n =10\n",
    "for i in range (1,n+1):\n",
    "    if(i%2==0):\n",
    "        print(i ,\" = EVEN\")\n",
    "    else:\n",
    "        print(i,\" = ODD\")"
   ]
  },
  {
   "cell_type": "markdown",
   "id": "dc4f4246",
   "metadata": {},
   "source": [
    "## 12. Use “break” to stop loop when number is 5."
   ]
  },
  {
   "cell_type": "code",
   "execution_count": 12,
   "id": "8f92582b",
   "metadata": {},
   "outputs": [
    {
     "name": "stdout",
     "output_type": "stream",
     "text": [
      "1\n",
      "2\n",
      "3\n",
      "4\n"
     ]
    }
   ],
   "source": [
    "for i in range (1,10):\n",
    "    if(i==5):\n",
    "        break\n",
    "    print(i)"
   ]
  },
  {
   "cell_type": "markdown",
   "id": "7cb057d1",
   "metadata": {},
   "source": [
    "## 13. Print 1 to 10 and use continue to skip printing 5"
   ]
  },
  {
   "cell_type": "code",
   "execution_count": 28,
   "id": "fe301d19",
   "metadata": {},
   "outputs": [
    {
     "name": "stdout",
     "output_type": "stream",
     "text": [
      "1 2 3 4 6 7 8 9 "
     ]
    }
   ],
   "source": [
    "for i in range (1,10):\n",
    "    if(i==5):\n",
    "        continue\n",
    "    print(i,end=\" \")"
   ]
  },
  {
   "cell_type": "markdown",
   "id": "b19f1d6f",
   "metadata": {},
   "source": [
    "## 14. Print all elements in a list using a loop."
   ]
  },
  {
   "cell_type": "code",
   "execution_count": 26,
   "id": "dbfccd3f",
   "metadata": {},
   "outputs": [
    {
     "name": "stdout",
     "output_type": "stream",
     "text": [
      "1 2 3 shruti "
     ]
    }
   ],
   "source": [
    "l = [1,2,3,'shruti']\n",
    "for i in l:\n",
    "    print(i,end=\" \")"
   ]
  },
  {
   "cell_type": "markdown",
   "id": "0025cf67",
   "metadata": {},
   "source": [
    "## 15. Check if a number is divisible by both 3 and 5"
   ]
  },
  {
   "cell_type": "code",
   "execution_count": 15,
   "id": "003aa0f6",
   "metadata": {},
   "outputs": [
    {
     "name": "stdout",
     "output_type": "stream",
     "text": [
      "enter the number : 12\n",
      "12  is not divisible by both 3 and 5\n"
     ]
    }
   ],
   "source": [
    "n = int(input(\"enter the number : \"))\n",
    "if n%3==0 and n%5==0:\n",
    "    print(n,\" is divisible by both 3 and 5\")\n",
    "else:\n",
    "    print(n,\" is not divisible by both 3 and 5\")"
   ]
  },
  {
   "cell_type": "markdown",
   "id": "75c94d06",
   "metadata": {},
   "source": [
    "## 16. Square of all numbers from 1 to 5."
   ]
  },
  {
   "cell_type": "code",
   "execution_count": 16,
   "id": "eaf5e521",
   "metadata": {},
   "outputs": [
    {
     "name": "stdout",
     "output_type": "stream",
     "text": [
      "1  square =  1\n",
      "2  square =  4\n",
      "3  square =  9\n",
      "4  square =  16\n",
      "5  square =  25\n"
     ]
    }
   ],
   "source": [
    "for i in range (1,6):\n",
    "    print(i,\" square = \",i*i)"
   ]
  },
  {
   "cell_type": "markdown",
   "id": "5c35d4b8",
   "metadata": {},
   "source": [
    "## 17. Print ASCII values of characters in a string."
   ]
  },
  {
   "cell_type": "code",
   "execution_count": 24,
   "id": "b6eb2193",
   "metadata": {},
   "outputs": [
    {
     "name": "stdout",
     "output_type": "stream",
     "text": [
      "115 104 114 117 116 105 "
     ]
    }
   ],
   "source": [
    "string = \"shruti\"\n",
    "for i in string:\n",
    "    print(ord(i),end=\" \") #The ord() function is used to get the ASCII value of a character"
   ]
  },
  {
   "cell_type": "markdown",
   "id": "69476736",
   "metadata": {},
   "source": [
    "## 18. Count down from 10 to 1 using while"
   ]
  },
  {
   "cell_type": "code",
   "execution_count": 23,
   "id": "d6e44f94",
   "metadata": {},
   "outputs": [
    {
     "name": "stdout",
     "output_type": "stream",
     "text": [
      "10 9 8 7 6 5 4 3 2 1 "
     ]
    }
   ],
   "source": [
    "x=10\n",
    "while(x>0):\n",
    "    print(x,end=\" \")\n",
    "    x=x-1"
   ]
  },
  {
   "cell_type": "markdown",
   "id": "54c109c7",
   "metadata": {},
   "source": [
    "## 19. Check if a number is divisible by 2 or 3"
   ]
  },
  {
   "cell_type": "code",
   "execution_count": 22,
   "id": "900d557f",
   "metadata": {},
   "outputs": [
    {
     "name": "stdout",
     "output_type": "stream",
     "text": [
      "enter the number : 5\n",
      "5  is not divisible by both 2 or 3\n"
     ]
    }
   ],
   "source": [
    "n = int(input(\"enter the number : \"))\n",
    "if n%2==0 or n%3==0:\n",
    "    print(n,\" is divisible by 2 or 3\")\n",
    "else:\n",
    "    print(n,\" is not divisible by both 2 or 3\")"
   ]
  },
  {
   "cell_type": "markdown",
   "id": "4bb03ee4",
   "metadata": {},
   "source": [
    "## 20. Print sum of digits of a number."
   ]
  },
  {
   "cell_type": "code",
   "execution_count": 25,
   "id": "cde45504",
   "metadata": {},
   "outputs": [
    {
     "name": "stdout",
     "output_type": "stream",
     "text": [
      "enter the number : 454\n",
      "Sum of Digits :  13\n"
     ]
    }
   ],
   "source": [
    "n = int(input(\"enter the number : \"))\n",
    "s=0\n",
    "while n:\n",
    "    d = n%10\n",
    "    s=s+d\n",
    "    n= n//10\n",
    "print(\"Sum of Digits : \",s)"
   ]
  },
  {
   "cell_type": "markdown",
   "id": "d6511bb8",
   "metadata": {},
   "source": [
    "## 21. Swap two numbers using a temporary variable.\n"
   ]
  },
  {
   "cell_type": "code",
   "execution_count": 26,
   "id": "692dfa0e",
   "metadata": {},
   "outputs": [
    {
     "name": "stdout",
     "output_type": "stream",
     "text": [
      "Enter number 1: 2\n",
      "Enter number 2: 3\n",
      "Before swapping : 2    3\n",
      "After swapping : 3    2\n"
     ]
    }
   ],
   "source": [
    "num1 = int(input(\"Enter number 1: \"))\n",
    "num2 = int(input(\"Enter number 2: \"))\n",
    "print(\"Before swapping :\",num1,\"  \",num2)\n",
    "n=num1                          # n is the temporary Variable\n",
    "num1=num2\n",
    "num2=n\n",
    "print(\"After swapping :\",num1,\"  \",num2)"
   ]
  },
  {
   "cell_type": "markdown",
   "id": "4f907d42",
   "metadata": {},
   "source": [
    "## 22. Print numbers from 1 to 100 that are divisible by 7."
   ]
  },
  {
   "cell_type": "code",
   "execution_count": 22,
   "id": "0b2a8ad2",
   "metadata": {},
   "outputs": [
    {
     "name": "stdout",
     "output_type": "stream",
     "text": [
      "Numbers from 1 to 100 that are divisible by 7\n",
      "7 14 21 28 35 42 49 56 63 70 77 84 91 98 "
     ]
    }
   ],
   "source": [
    "print(\"Numbers from 1 to 100 that are divisible by 7\")\n",
    "for i in range (1,101):\n",
    "    if(i%7==0):\n",
    "        print(i,end=\" \")"
   ]
  },
  {
   "cell_type": "markdown",
   "id": "9cbc7197",
   "metadata": {},
   "source": [
    "## 23. Find the factorial of a number."
   ]
  },
  {
   "cell_type": "code",
   "execution_count": 36,
   "id": "af5157e5",
   "metadata": {},
   "outputs": [
    {
     "name": "stdout",
     "output_type": "stream",
     "text": [
      "Enter the number : 5\n",
      "Factorial of  5 ! =  120\n"
     ]
    }
   ],
   "source": [
    "n = int(input(\"Enter the number : \"))\n",
    "f=1\n",
    "\n",
    "n1 = n\n",
    "while n>0:\n",
    "    f=f*n\n",
    "    n=n-1\n",
    "print(\"Factorial of \",n1,\"! = \",f)"
   ]
  },
  {
   "cell_type": "markdown",
   "id": "272ed840",
   "metadata": {},
   "source": [
    "## 24. Count vowels in a string."
   ]
  },
  {
   "cell_type": "code",
   "execution_count": 39,
   "id": "a6d990fb",
   "metadata": {},
   "outputs": [
    {
     "name": "stdout",
     "output_type": "stream",
     "text": [
      "Enter any string :aeiskdousa\n",
      "There is total  6  number of vowels in the string  aeiskdousa\n"
     ]
    }
   ],
   "source": [
    "s = input(\"Enter any string :\")\n",
    "c=0\n",
    "for i in s:\n",
    "    if(i=='a' or i=='A'):\n",
    "        c=c+1\n",
    "    elif(i=='e' or i=='E'):\n",
    "        c=c+1\n",
    "    elif(i=='i' or i=='I'):\n",
    "        c=c+1\n",
    "    elif(i=='o' or i=='O'):\n",
    "        c=c+1\n",
    "    elif(i=='u' or i=='U'):\n",
    "        c=c+1\n",
    "print(\"There is total \",c,\" number of vowels in the string \",s)      "
   ]
  },
  {
   "cell_type": "markdown",
   "id": "12f00d01",
   "metadata": {},
   "source": [
    "## 25. Reverse a number using loop."
   ]
  },
  {
   "cell_type": "code",
   "execution_count": 42,
   "id": "9fbdd1b8",
   "metadata": {},
   "outputs": [
    {
     "name": "stdout",
     "output_type": "stream",
     "text": [
      "enter the number : 32\n",
      "Reverse of 32  =  23\n"
     ]
    }
   ],
   "source": [
    "n = int(input(\"enter the number : \"))\n",
    "n1 =n\n",
    "r=0\n",
    "while n:\n",
    "    d = n%10\n",
    "    r = r*10+d\n",
    "    n= n//10\n",
    "print(\"Reverse of\",n1,\" = \",r)\n",
    "\n",
    "    "
   ]
  },
  {
   "cell_type": "markdown",
   "id": "01d0de8e",
   "metadata": {},
   "source": [
    "## 26. Find the maximum in a list using loop. "
   ]
  },
  {
   "cell_type": "code",
   "execution_count": 45,
   "id": "fa8b6af0",
   "metadata": {},
   "outputs": [
    {
     "name": "stdout",
     "output_type": "stream",
     "text": [
      "Maximun in list =  200.12\n"
     ]
    }
   ],
   "source": [
    "l = [1,100,2,2,3,200.12,4,7]\n",
    "max=l[0]\n",
    "for i in l:\n",
    "    if(max<i):\n",
    "        max = i\n",
    "print(\"Maximun in list = \",max)"
   ]
  },
  {
   "cell_type": "markdown",
   "id": "cc121247",
   "metadata": {},
   "source": [
    "## 27. Prime number check using loop."
   ]
  },
  {
   "cell_type": "code",
   "execution_count": 55,
   "id": "1e9a9048",
   "metadata": {},
   "outputs": [
    {
     "name": "stdout",
     "output_type": "stream",
     "text": [
      "enter the number : 1\n",
      "1  is Prime\n"
     ]
    }
   ],
   "source": [
    "n = int(input(\"enter the number : \"))\n",
    "c=True\n",
    "for i in range (2,n):\n",
    "    if(n%i==0):\n",
    "        print(n,\" is Not Prime ***\");\n",
    "        c= False\n",
    "        break;\n",
    "if c==True:\n",
    "    print(n,\" is Prime\")"
   ]
  },
  {
   "cell_type": "markdown",
   "id": "6526d2a1",
   "metadata": {},
   "source": [
    "## 28. Sum of even numbers in a list.\n",
    "\n"
   ]
  },
  {
   "cell_type": "code",
   "execution_count": 65,
   "id": "ecd62cce",
   "metadata": {},
   "outputs": [
    {
     "name": "stdout",
     "output_type": "stream",
     "text": [
      "Sum of Even numbers in the list : 16\n"
     ]
    }
   ],
   "source": [
    "l = [1,2,4,3,6,0,4]\n",
    "s=0\n",
    "for i in l:\n",
    "    if i%2==0:\n",
    "        s=s+i\n",
    "print(\"Sum of Even numbers in the list :\",s)"
   ]
  },
  {
   "cell_type": "markdown",
   "id": "dde93d8d",
   "metadata": {},
   "source": [
    "## 29. Print number pattern using nested loops.\n"
   ]
  },
  {
   "cell_type": "code",
   "execution_count": 118,
   "id": "a0b30808",
   "metadata": {},
   "outputs": [
    {
     "name": "stdout",
     "output_type": "stream",
     "text": [
      "enter the level : 4\n",
      "1 \n",
      "\n",
      "2 2 \n",
      "\n",
      "3 3 3 \n",
      "\n",
      "4 4 4 4 \n",
      "\n"
     ]
    }
   ],
   "source": [
    "n = int(input(\"enter the level : \"))\n",
    "for i in range(1,n+1):\n",
    "    for j in range(i):\n",
    "        print(i,end=\" \")\n",
    "    print(\"\\n\")"
   ]
  },
  {
   "cell_type": "code",
   "execution_count": 117,
   "id": "2daafa67",
   "metadata": {},
   "outputs": [
    {
     "name": "stdout",
     "output_type": "stream",
     "text": [
      "enter the level : 4\n",
      "1 2 3 4 \n",
      "\n",
      "2 3 4 \n",
      "\n",
      "3 4 \n",
      "\n",
      "4 \n",
      "\n"
     ]
    }
   ],
   "source": [
    "n = int(input(\"enter the level : \"))\n",
    "for i in range(1,n+1):\n",
    "    for j in range(i,n+1):\n",
    "        print(j,end=\" \")\n",
    "    print(\"\\n\")"
   ]
  },
  {
   "cell_type": "markdown",
   "id": "d402d4c9",
   "metadata": {},
   "source": [
    "## 30. Count frequency of digits in a number."
   ]
  },
  {
   "cell_type": "code",
   "execution_count": 16,
   "id": "acd3b345",
   "metadata": {},
   "outputs": [
    {
     "name": "stdout",
     "output_type": "stream",
     "text": [
      "Enter the number : 23112232\n",
      "1  occurs  2 times\n",
      "2  occurs  4 times\n",
      "3  occurs  2 times\n"
     ]
    }
   ],
   "source": [
    "num = int(input(\"Enter the number : \"))\n",
    "\n",
    "\n",
    "for i in range(0,10):\n",
    "    c=0\n",
    "    n1=num\n",
    "    while n1>0:\n",
    "        d=n1%10\n",
    "        if(d==i):\n",
    "            c=c+1\n",
    "        n1=n1//10  \n",
    "    if(c > 0):\n",
    "        print(i,\" occurs \",c,\"times\")\n",
    "         "
   ]
  },
  {
   "cell_type": "markdown",
   "id": "6b4656d8",
   "metadata": {},
   "source": [
    "## 31. GCD of two numbers using loop.\n"
   ]
  },
  {
   "cell_type": "code",
   "execution_count": 14,
   "id": "f02fc6b7",
   "metadata": {},
   "outputs": [
    {
     "name": "stdout",
     "output_type": "stream",
     "text": [
      "Enter the 1st Number : 24\n",
      "Enter the 2nd Number : 8\n",
      "gcd of ( 24 , 8 ) = 8\n"
     ]
    }
   ],
   "source": [
    "n1 = int(input(\"Enter the 1st Number : \"))\n",
    "n2 = int(input(\"Enter the 2nd Number : \"))\n",
    "g=1\n",
    "for i in range (2,n1):\n",
    "    if(n1%i==0 and n2%i==0):\n",
    "        g=i\n",
    "print(\"gcd of (\",n1,\",\",n2,\") =\",g)\n",
    "    "
   ]
  },
  {
   "cell_type": "markdown",
   "id": "558d96c4",
   "metadata": {},
   "source": [
    "## 32. Check if a number is a palindrome."
   ]
  },
  {
   "cell_type": "code",
   "execution_count": 11,
   "id": "eb195983",
   "metadata": {},
   "outputs": [
    {
     "name": "stdout",
     "output_type": "stream",
     "text": [
      "Enter the Number : 345\n",
      "345 Is Not Palindrome\n"
     ]
    }
   ],
   "source": [
    "n = int(input(\"Enter the Number : \"))\n",
    "n1 = n\n",
    "r=0\n",
    "while n:\n",
    "    d = n%10\n",
    "    r = r*10+d\n",
    "    n= n//10\n",
    "if(r==n1):\n",
    "    print(n1,\"Is Palindrome\")\n",
    "else:\n",
    "    print(n1,\"Is Not Palindrome\")"
   ]
  },
  {
   "cell_type": "markdown",
   "id": "df9eb583",
   "metadata": {},
   "source": [
    "## 33. Count words in a sentence.\n"
   ]
  },
  {
   "cell_type": "code",
   "execution_count": 143,
   "id": "64a9b25b",
   "metadata": {},
   "outputs": [
    {
     "name": "stdout",
     "output_type": "stream",
     "text": [
      " Number of words in sentence \n",
      " hello world , I am shrutirekha srichandan  = 7\n"
     ]
    }
   ],
   "source": [
    "s = \"hello world , I am shrutirekha srichandan\"\n",
    "c=0\n",
    "for i in s:\n",
    "    if(i==' '):\n",
    "        c=c+1\n",
    "print(\" Number of words in sentence \\n\",s,\" =\",c+1)        "
   ]
  },
  {
   "cell_type": "markdown",
   "id": "5288b140",
   "metadata": {},
   "source": [
    "## 34. Find common elements in two lists.\n"
   ]
  },
  {
   "cell_type": "code",
   "execution_count": 137,
   "id": "af0de4d7",
   "metadata": {},
   "outputs": [
    {
     "name": "stdout",
     "output_type": "stream",
     "text": [
      "3\n"
     ]
    }
   ],
   "source": [
    "l1=[1,2,'ram',3]\n",
    "l2=[3,4,'2','Ram']\n",
    "for i in l1:\n",
    "    for j in l2:\n",
    "        if(i==j):\n",
    "            print(j)"
   ]
  },
  {
   "cell_type": "markdown",
   "id": "88ff4c62",
   "metadata": {},
   "source": [
    "## 35. Use elif to grade students based on score"
   ]
  },
  {
   "cell_type": "code",
   "execution_count": 122,
   "id": "1c937369",
   "metadata": {},
   "outputs": [
    {
     "name": "stdout",
     "output_type": "stream",
     "text": [
      "Enter the score : 99\n",
      "Grade - O\n"
     ]
    }
   ],
   "source": [
    "s=int(input(\"Enter the score : \"))\n",
    "if(s>=90):\n",
    "    print(\"Grade - O\")\n",
    "elif(s>=80):\n",
    "    print(\"Grade - E\")\n",
    "elif(s>=70):\n",
    "    print(\"Grade - A\")\n",
    "elif(s>=60):\n",
    "    print(\"Grade - B\")\n",
    "elif(s>=50):\n",
    "    print(\"Grade - C\")\n",
    "elif(s>=40):\n",
    "    print(\"Grade - D\") \n",
    "else:\n",
    "    print(\"Grade - F\")\n"
   ]
  },
  {
   "cell_type": "markdown",
   "id": "7c3bb401",
   "metadata": {},
   "source": [
    "## 36. Print a right-angled triangle using *.\n"
   ]
  },
  {
   "cell_type": "code",
   "execution_count": 91,
   "id": "144df896",
   "metadata": {},
   "outputs": [
    {
     "name": "stdout",
     "output_type": "stream",
     "text": [
      "enter the level : 4\n",
      "*  \n",
      "\n",
      "*  *  \n",
      "\n",
      "*  *  *  \n",
      "\n",
      "*  *  *  *  \n",
      "\n"
     ]
    }
   ],
   "source": [
    "n = int(input(\"enter the level : \"))\n",
    "for i in range(1,n+1):\n",
    "    for j in range(i):\n",
    "        print(\"* \",end=\" \")\n",
    "    print(\"\\n\")"
   ]
  },
  {
   "cell_type": "code",
   "execution_count": 100,
   "id": "8a971f37",
   "metadata": {},
   "outputs": [
    {
     "name": "stdout",
     "output_type": "stream",
     "text": [
      "enter the level : 3\n",
      "*  *  *  \n",
      "\n",
      "*  *  \n",
      "\n",
      "*  \n",
      "\n"
     ]
    }
   ],
   "source": [
    "n = int(input(\"enter the level : \"))\n",
    "for i in range(1,n+1):\n",
    "    for j in range(i,n+1):\n",
    "        print(\"* \",end=\" \")\n",
    "    print(\"\\n\")"
   ]
  },
  {
   "cell_type": "markdown",
   "id": "5b8e241f",
   "metadata": {},
   "source": [
    "## 37. Check if a year is a leap year.\n"
   ]
  },
  {
   "cell_type": "code",
   "execution_count": 127,
   "id": "cb374623",
   "metadata": {},
   "outputs": [
    {
     "name": "stdout",
     "output_type": "stream",
     "text": [
      "Enter the year 2025\n",
      "2025 is Not a Leap Year\n"
     ]
    }
   ],
   "source": [
    "y = int(input(\"Enter the year \"))\n",
    "\n",
    "if(y%4==0):\n",
    "    print(y,\"is a Leap Year\")\n",
    "else:\n",
    "    print(y,\"is Not a Leap Year\")\n",
    "    \n",
    "\n"
   ]
  },
  {
   "cell_type": "markdown",
   "id": "13d8d2ef",
   "metadata": {},
   "source": [
    "## 38. Print Fibonacci series using loop.\n"
   ]
  },
  {
   "cell_type": "code",
   "execution_count": 20,
   "id": "1a4289ea",
   "metadata": {},
   "outputs": [
    {
     "name": "stdout",
     "output_type": "stream",
     "text": [
      "Enter number: 4\n",
      "0 1 1 2 "
     ]
    }
   ],
   "source": [
    "n = int(input(\"Enter number: \"))\n",
    "i,j,f=0,1,0\n",
    "\n",
    "for k in range(0,n):\n",
    "    if k==0:\n",
    "        print(i,end=\" \")\n",
    "    elif k==1:\n",
    "        print(j,end=\" \")\n",
    "    else:\n",
    "        f=i+j\n",
    "        print(f,end=\" \")\n",
    "        i=j\n",
    "        j=f"
   ]
  },
  {
   "cell_type": "markdown",
   "id": "0bbd246c",
   "metadata": {},
   "source": [
    "## 39. Count uppercase and lowercase letters in a string.\n"
   ]
  },
  {
   "cell_type": "code",
   "execution_count": 6,
   "id": "5372cdd6",
   "metadata": {},
   "outputs": [
    {
     "name": "stdout",
     "output_type": "stream",
     "text": [
      "Enter the string : Hello World\n",
      "Hello World\n",
      "Number of Lower case character =  8\n",
      "Number of Upper case character =  2\n",
      "Number of space =  1\n"
     ]
    }
   ],
   "source": [
    "s = input(\"Enter the string : \")\n",
    "l=u=sc=0\n",
    "for i in s:\n",
    "    if i.islower():\n",
    "        l=l+1\n",
    "    elif(i==' '):\n",
    "        sc=sc+1\n",
    "    else:\n",
    "        u=u+1\n",
    "print(s)\n",
    "print(\"Number of Lower case character = \",l)\n",
    "print(\"Number of Upper case character = \",u)\n",
    "print(\"Number of space = \",sc)"
   ]
  },
  {
   "cell_type": "markdown",
   "id": "199a76f4",
   "metadata": {},
   "source": [
    "## 40. Print numbers from 100 to 1 using loop."
   ]
  },
  {
   "cell_type": "code",
   "execution_count": 21,
   "id": "379998d4",
   "metadata": {},
   "outputs": [
    {
     "name": "stdout",
     "output_type": "stream",
     "text": [
      "100 99 98 97 96 95 94 93 92 91 90 89 88 87 86 85 84 83 82 81 80 79 78 77 76 75 74 73 72 71 70 69 68 67 66 65 64 63 62 61 60 59 58 57 56 55 54 53 52 51 50 49 48 47 46 45 44 43 42 41 40 39 38 37 36 35 34 33 32 31 30 29 28 27 26 25 24 23 22 21 20 19 18 17 16 15 14 13 12 11 10 9 8 7 6 5 4 3 2 1 "
     ]
    }
   ],
   "source": [
    "i=100\n",
    "while i>0:\n",
    "    print(i ,end=\" \")\n",
    "    i=i-1"
   ]
  },
  {
   "cell_type": "markdown",
   "id": "1cc7f446",
   "metadata": {},
   "source": [
    "###### Shrutirekha Srichandan "
   ]
  }
 ],
 "metadata": {
  "kernelspec": {
   "display_name": "Python 3 (ipykernel)",
   "language": "python",
   "name": "python3"
  },
  "language_info": {
   "codemirror_mode": {
    "name": "ipython",
    "version": 3
   },
   "file_extension": ".py",
   "mimetype": "text/x-python",
   "name": "python",
   "nbconvert_exporter": "python",
   "pygments_lexer": "ipython3",
   "version": "3.11.5"
  }
 },
 "nbformat": 4,
 "nbformat_minor": 5
}
